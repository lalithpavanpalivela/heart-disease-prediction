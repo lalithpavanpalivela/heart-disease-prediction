{
 "cells": [
  {
   "cell_type": "code",
   "execution_count": 1,
   "id": "c50d33a1-932f-4a58-92f7-315dbcbc7252",
   "metadata": {
    "tags": []
   },
   "outputs": [
    {
     "name": "stdout",
     "output_type": "stream",
     "text": [
      "   Age Sex ChestPainType  RestingBP  Cholesterol  FastingBS RestingECG  MaxHR  \\\n",
      "0   40   M           ATA        140          289          0     Normal    172   \n",
      "1   49   F           NAP        160          180          0     Normal    156   \n",
      "2   37   M           ATA        130          283          0         ST     98   \n",
      "3   48   F           ASY        138          214          0     Normal    108   \n",
      "4   54   M           NAP        150          195          0     Normal    122   \n",
      "\n",
      "  ExerciseAngina  Oldpeak ST_Slope  HeartDisease  \n",
      "0              N      0.0       Up             0  \n",
      "1              N      1.0     Flat             1  \n",
      "2              N      0.0       Up             0  \n",
      "3              Y      1.5     Flat             1  \n",
      "4              N      0.0       Up             0  \n"
     ]
    }
   ],
   "source": [
    "# Import necessary libraries\n",
    "import pandas as pd\n",
    "import numpy as np\n",
    "from sklearn.model_selection import train_test_split, RandomizedSearchCV\n",
    "from sklearn.preprocessing import StandardScaler, LabelEncoder\n",
    "from sklearn.ensemble import RandomForestClassifier\n",
    "from sklearn.metrics import accuracy_score, classification_report, confusion_matrix\n",
    "import matplotlib.pyplot as plt\n",
    "import seaborn as sns\n",
    "from tqdm import tqdm\n",
    "import joblib\n",
    "import os, sys, random, asyncio, argparse\n",
    "\n",
    "# Load your dataset\n",
    "new_file_path = 'heart_records_100k.csv'\n",
    "heart_records_data = pd.read_csv(new_file_path)\n",
    "\n",
    "# Display the first few rows of the new dataset to understand its structure\n",
    "print(heart_records_data.head())"
   ]
  },
  {
   "cell_type": "code",
   "execution_count": 2,
   "id": "f0eb49ff-3c11-47ec-b1c0-7bb489f6cb17",
   "metadata": {},
   "outputs": [
    {
     "data": {
      "text/plain": [
       "['new_scaler.pkl']"
      ]
     },
     "execution_count": 2,
     "metadata": {},
     "output_type": "execute_result"
    }
   ],
   "source": [
    "# Step 1: Data Preprocessing (Encoding and Scaling)\n",
    "\n",
    "# Copy the data for manipulation\n",
    "df = heart_records_data.copy()\n",
    "\n",
    "# Encode categorical variables into numeric values\n",
    "label_encoder = LabelEncoder()\n",
    "df['Sex'] = label_encoder.fit_transform(df['Sex'])\n",
    "df['ChestPainType'] = label_encoder.fit_transform(df['ChestPainType'])\n",
    "df['RestingECG'] = label_encoder.fit_transform(df['RestingECG'])\n",
    "df['ExerciseAngina'] = label_encoder.fit_transform(df['ExerciseAngina'])\n",
    "df['ST_Slope'] = label_encoder.fit_transform(df['ST_Slope'])\n",
    "\n",
    "# Define features (X) and target (y)\n",
    "X = df.drop(columns=['HeartDisease'])\n",
    "y = df['HeartDisease']\n",
    "\n",
    "# Train-test split\n",
    "X_train, X_test, y_train, y_test = train_test_split(X, y, test_size=0.25, random_state=42)\n",
    "\n",
    "# Feature scaling\n",
    "scaler = StandardScaler()\n",
    "X_train_scaled = scaler.fit_transform(X_train)\n",
    "X_test_scaled = scaler.transform(X_test)\n",
    "\n",
    "# Save the scaler for future use\n",
    "joblib.dump(scaler, 'new_scaler.pkl')"
   ]
  },
  {
   "cell_type": "code",
   "execution_count": 3,
   "id": "59a47d25-d569-4615-af39-e5b0a0369107",
   "metadata": {
    "tags": []
   },
   "outputs": [
    {
     "name": "stdout",
     "output_type": "stream",
     "text": [
      "Fitting 5 folds for each of 20 candidates, totalling 100 fits\n",
      "DONE!\n"
     ]
    }
   ],
   "source": [
    "import sys\n",
    "from sklearn.model_selection import RandomizedSearchCV\n",
    "from sklearn.ensemble import RandomForestClassifier\n",
    "\n",
    "# Step 2: Hyperparameter Tuning with RandomizedSearchCV\n",
    "\n",
    "# Define the parameter grid for RandomizedSearchCV\n",
    "param_dist = {\n",
    "    'n_estimators': [100, 200, 300, 500],\n",
    "    'max_depth': [None, 10, 20, 30, 40],\n",
    "    'min_samples_split': [2, 5, 10],\n",
    "    'min_samples_leaf': [1, 2, 4],\n",
    "    'bootstrap': [True, False]\n",
    "}\n",
    "\n",
    "# Initialize Random Forest with class weight balancing\n",
    "rfc_with_class_weight = RandomForestClassifier(random_state=42, class_weight='balanced')\n",
    "\n",
    "# RandomizedSearchCV for hyperparameter tuning\n",
    "random_search_balanced = RandomizedSearchCV(\n",
    "    rfc_with_class_weight, param_distributions=param_dist, n_iter=20, cv=5, verbose=2, n_jobs=-1, random_state=42\n",
    ")\n",
    "\n",
    "# Perform RandomizedSearchCV with cross-validation on the training set\n",
    "random_search_balanced.fit(X_train_scaled, y_train)\n",
    "\n",
    "# Get the best hyperparameters and the best estimator\n",
    "best_model_balanced = random_search_balanced.best_estimator_\n",
    "best_params_balanced = random_search_balanced.best_params_\n",
    "print(\"DONE!\",flush=True)"
   ]
  },
  {
   "cell_type": "code",
   "execution_count": 9,
   "id": "2c79ccb8-f3f8-4b5d-916d-4ad2b284c0f5",
   "metadata": {
    "tags": []
   },
   "outputs": [
    {
     "name": "stderr",
     "output_type": "stream",
     "text": [
      "Training Progress: 200it [01:31,  2.18it/s]                                                                            \n"
     ]
    },
    {
     "name": "stdout",
     "output_type": "stream",
     "text": [
      "Model saved as best_random_forest_model.pkl\n",
      "DONE!\n"
     ]
    }
   ],
   "source": [
    "# Step 3: Retrain the Best Model on the Entire Training Set\n",
    "\n",
    "# Train the final model using the best hyperparameters\n",
    "best_model_balanced.fit(X_train_scaled, y_train)\n",
    "\n",
    "# Progress bar for model training\n",
    "with tqdm(total=100, desc=\"Training Progress\") as pbar:\n",
    "    for _ in range(10):  # Simulate 10 updates\n",
    "        rfc_with_class_weight.fit(X_train_scaled, y_train)\n",
    "        pbar.update(20)\n",
    "        \n",
    "# Save the model to a file\n",
    "model_file = 'best_random_forest_model.pkl'\n",
    "joblib.dump(best_model_balanced, model_file)\n",
    "\n",
    "print(f\"Model saved as {model_file}\")\n",
    "\n",
    "# Step 4: Evaluate the Model on the Test Set\n",
    "\n",
    "# Predictions on the test set\n",
    "y_pred = best_model_balanced.predict(X_test_scaled)\n",
    "\n",
    "print(\"DONE!\")"
   ]
  },
  {
   "cell_type": "code",
   "execution_count": 10,
   "id": "8cc870f7-4b4a-4bee-9496-283129f0c1b4",
   "metadata": {
    "tags": []
   },
   "outputs": [
    {
     "name": "stdout",
     "output_type": "stream",
     "text": [
      "Accuracy: 92.09%\n"
     ]
    }
   ],
   "source": [
    "# Accuracy\n",
    "accuracy = accuracy_score(y_test, y_pred)\n",
    "print(f\"Accuracy: {accuracy * 100:.2f}%\")"
   ]
  },
  {
   "cell_type": "code",
   "execution_count": 11,
   "id": "c65b0109-c403-4cda-8fe0-75ca16c81785",
   "metadata": {
    "tags": []
   },
   "outputs": [
    {
     "name": "stdout",
     "output_type": "stream",
     "text": [
      "Classification Report:\n",
      "              precision    recall  f1-score   support\n",
      "\n",
      "           0       0.89      0.94      0.91     10404\n",
      "           1       0.95      0.91      0.93     12776\n",
      "\n",
      "    accuracy                           0.92     23180\n",
      "   macro avg       0.92      0.92      0.92     23180\n",
      "weighted avg       0.92      0.92      0.92     23180\n",
      "\n"
     ]
    }
   ],
   "source": [
    "# Classification Report\n",
    "print(\"Classification Report:\")\n",
    "print(classification_report(y_test, y_pred))"
   ]
  },
  {
   "cell_type": "code",
   "execution_count": 12,
   "id": "3099da93-464a-4efa-8133-dc6af11940f5",
   "metadata": {
    "tags": []
   },
   "outputs": [
    {
     "data": {
      "image/png": "[encoded data removed]",
      "text/plain": [
       "<Figure size 800x600 with 2 Axes>"
      ]
     },
     "metadata": {},
     "output_type": "display_data"
    }
   ],
   "source": [
    "# Confusion Matrix\n",
    "conf_matrix = confusion_matrix(y_test, y_pred)\n",
    "\n",
    "# Confusion Matrix Visualization\n",
    "plt.figure(figsize=(8, 6))\n",
    "sns.heatmap(conf_matrix, annot=True, fmt=\"d\", cmap=\"Oranges\")\n",
    "plt.title('Confusion Matrix')\n",
    "plt.xlabel('Predicted')\n",
    "plt.ylabel('True')\n",
    "plt.show()"
   ]
  },
  {
   "cell_type": "code",
   "execution_count": 13,
   "id": "82c7da15-9966-4671-8e38-3cc7d45d2dd3",
   "metadata": {
    "tags": []
   },
   "outputs": [
    {
     "data": {
      "image/png": "[encoded data removed]",
      "text/plain": [
       "<Figure size 1000x600 with 1 Axes>"
      ]
     },
     "metadata": {},
     "output_type": "display_data"
    }
   ],
   "source": [
    "# Feature Importance\n",
    "importances = best_model_balanced.feature_importances_\n",
    "features = X.columns\n",
    "indices = np.argsort(importances)[::-1]\n",
    "\n",
    "plt.figure(figsize=(10, 6))\n",
    "plt.title('Feature Importances')\n",
    "plt.bar(range(X.shape[1]), importances[indices], align='center')\n",
    "plt.xticks(range(X.shape[1]), [features[i] for i in indices], rotation=90)\n",
    "plt.tight_layout()\n",
    "plt.show()"
   ]
  },
  {
   "cell_type": "code",
   "execution_count": null,
   "id": "d131339f-c38c-4109-9286-12466e8136ca",
   "metadata": {
    "tags": []
   },
   "outputs": [],
   "source": []
  },
  {
   "cell_type": "code",
   "execution_count": null,
   "id": "c2863754-b53b-4195-8ac9-51aca7c60e93",
   "metadata": {
    "tags": []
   },
   "outputs": [],
   "source": []
  },
  {
   "cell_type": "code",
   "execution_count": null,
   "id": "740f5fa2-8c47-493b-8fd0-1926c583d559",
   "metadata": {},
   "outputs": [],
   "source": []
  }
 ],
 "metadata": {
  "kernelspec": {
   "display_name": "Python 3 (ipykernel)",
   "language": "python",
   "name": "python3"
  },
  "language_info": {
   "codemirror_mode": {
    "name": "ipython",
    "version": 3
   },
   "file_extension": ".py",
   "mimetype": "text/x-python",
   "name": "python",
   "nbconvert_exporter": "python",
   "pygments_lexer": "ipython3",
   "version": "3.11.5"
  },
  "widgets": {
   "application/vnd.jupyter.widget-state+json": {
    "state": {
     "0576d88c4d374cd4a064ec05ae6e44cb": {
      "model_module": "@jupyter-widgets/base",
      "model_module_version": "2.0.0",
      "model_name": "LayoutModel",
      "state": {}
     },
     "06b8eb1088ba4231956828407671bf62": {
      "model_module": "@jupyter-widgets/controls",
      "model_module_version": "2.0.0",
      "model_name": "HTMLModel",
      "state": {
       "layout": "IPY_MODEL_24b8caf767aa46e78d94f30a2cf991db",
       "style": "IPY_MODEL_3c6bc14a412a4cddaf8e9964ea42d9c5",
       "value": "RandomizedSearch Progress:   8%"
      }
     },
     "24b8caf767aa46e78d94f30a2cf991db": {
      "model_module": "@jupyter-widgets/base",
      "model_module_version": "2.0.0",
      "model_name": "LayoutModel",
      "state": {}
     },
     "30e0a017584649fab18e9b8cbb9b58d4": {
      "model_module": "@jupyter-widgets/controls",
      "model_module_version": "2.0.0",
      "model_name": "HTMLModel",
      "state": {
       "layout": "IPY_MODEL_cebc74d77d5b4b94baa7005047e892db",
       "style": "IPY_MODEL_41ea64d287ec4140a4d1fa9134289032",
       "value": " 8/100 [02:09&lt;24:30, 15.98s/it]"
      }
     },
     "3537585c59924787b5ad18ab153b611d": {
      "model_module": "@jupyter-widgets/controls",
      "model_module_version": "2.0.0",
      "model_name": "ProgressStyleModel",
      "state": {
       "description_width": ""
      }
     },
     "39e214baeaa64f7cb50c7eb25cd79eed": {
      "model_module": "@jupyter-widgets/base",
      "model_module_version": "2.0.0",
      "model_name": "LayoutModel",
      "state": {}
     },
     "3c6bc14a412a4cddaf8e9964ea42d9c5": {
      "model_module": "@jupyter-widgets/controls",
      "model_module_version": "2.0.0",
      "model_name": "HTMLStyleModel",
      "state": {
       "description_width": "",
       "font_size": null,
       "text_color": null
      }
     },
     "41ea64d287ec4140a4d1fa9134289032": {
      "model_module": "@jupyter-widgets/controls",
      "model_module_version": "2.0.0",
      "model_name": "HTMLStyleModel",
      "state": {
       "description_width": "",
       "font_size": null,
       "text_color": null
      }
     },
     "a1bcbc6c4ed9410aa0a690b946eb0ed6": {
      "model_module": "@jupyter-widgets/controls",
      "model_module_version": "2.0.0",
      "model_name": "FloatProgressModel",
      "state": {
       "layout": "IPY_MODEL_0576d88c4d374cd4a064ec05ae6e44cb",
       "style": "IPY_MODEL_3537585c59924787b5ad18ab153b611d",
       "value": 8
      }
     },
     "beebcb12197f400092979c9ee880a666": {
      "model_module": "@jupyter-widgets/controls",
      "model_module_version": "2.0.0",
      "model_name": "HBoxModel",
      "state": {
       "children": [
        "IPY_MODEL_06b8eb1088ba4231956828407671bf62",
        "IPY_MODEL_a1bcbc6c4ed9410aa0a690b946eb0ed6",
        "IPY_MODEL_30e0a017584649fab18e9b8cbb9b58d4"
       ],
       "layout": "IPY_MODEL_39e214baeaa64f7cb50c7eb25cd79eed"
      }
     },
     "cebc74d77d5b4b94baa7005047e892db": {
      "model_module": "@jupyter-widgets/base",
      "model_module_version": "2.0.0",
      "model_name": "LayoutModel",
      "state": {}
     }
    },
    "version_major": 2,
    "version_minor": 0
   }
  }
 },
 "nbformat": 4,
 "nbformat_minor": 5
}
